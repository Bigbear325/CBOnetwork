{
 "cells": [
  {
   "cell_type": "code",
   "execution_count": 48,
   "metadata": {},
   "outputs": [],
   "source": [
    "from selenium import webdriver\n",
    "from foxnewsbot import *\n",
    "from foxprofile import my_email, my_password\n",
    "from bs4 import BeautifulSoup\n",
    "from selenium.webdriver.common.by import By"
   ]
  },
  {
   "cell_type": "code",
   "execution_count": 49,
   "metadata": {},
   "outputs": [],
   "source": [
    "driver = webdriver.Chrome()"
   ]
  },
  {
   "cell_type": "code",
   "execution_count": 50,
   "metadata": {},
   "outputs": [
    {
     "name": "stdout",
     "output_type": "stream",
     "text": [
      "login success!\n"
     ]
    }
   ],
   "source": [
    "login(driver, my_email, my_password)"
   ]
  },
  {
   "cell_type": "code",
   "execution_count": 51,
   "metadata": {},
   "outputs": [],
   "source": [
    "open_page(driver, 'http://www.foxnews.com/opinion/2018/04/01/what-is-easter-and-why-do-christians-celebrate-this-holiday.html')"
   ]
  },
  {
   "cell_type": "code",
   "execution_count": 52,
   "metadata": {},
   "outputs": [],
   "source": [
    "driver.execute_script(\"window.scrollTo(0, document.body.scrollHeight)\")"
   ]
  },
  {
   "cell_type": "code",
   "execution_count": 6,
   "metadata": {},
   "outputs": [],
   "source": [
    "page_html = driver.page_source"
   ]
  },
  {
   "cell_type": "code",
   "execution_count": 7,
   "metadata": {},
   "outputs": [
    {
     "name": "stderr",
     "output_type": "stream",
     "text": [
      "/usr/local/lib/python2.7/site-packages/bs4/__init__.py:181: UserWarning: No parser was explicitly specified, so I'm using the best available HTML parser for this system (\"html5lib\"). This usually isn't a problem, but if you run this code on another system, or in a different virtual environment, it may use a different parser and behave differently.\n",
      "\n",
      "The code that caused this warning is on line 174 of the file /usr/local/Cellar/python@2/2.7.15/Frameworks/Python.framework/Versions/2.7/lib/python2.7/runpy.py. To get rid of this warning, change code that looks like this:\n",
      "\n",
      " BeautifulSoup(YOUR_MARKUP})\n",
      "\n",
      "to this:\n",
      "\n",
      " BeautifulSoup(YOUR_MARKUP, \"html5lib\")\n",
      "\n",
      "  markup_type=markup_type))\n"
     ]
    }
   ],
   "source": [
    "soup = BeautifulSoup(page_html, 'html')"
   ]
  },
  {
   "cell_type": "code",
   "execution_count": 8,
   "metadata": {},
   "outputs": [],
   "source": [
    "mydivs = soup.findAll(\"div\", {\"id\": \"commenting\"})"
   ]
  },
  {
   "cell_type": "code",
   "execution_count": 9,
   "metadata": {},
   "outputs": [
    {
     "data": {
      "text/plain": [
       "[<div class=\"article-comments\" id=\"commenting\"><div id=\"commenting\"></div><script async=\"\" data-livefyre-url=\"44cb71eb-b87a-47aa-8156-8fe92bf8054f\" data-post-id=\"44cb71eb-b87a-47aa-8156-8fe92bf8054f\" data-post-url=\"http://www.foxnews.com/opinion/2018/04/01/what-is-easter-and-why-do-christians-celebrate-this-holiday.html\" data-ready=\"true\" data-spotim-module=\"spotim-launcher\" src=\"http://launcher.spot.im/spot/sp_ANQXRpqH\"></script><div class=\"spot-im-registration-module\" data-spot-id=\"sp_ANQXRpqH\"></div><div class=\"spot-im-conversation-module sppre_conversation-module\" data-livefyre-url=\"44cb71eb-b87a-47aa-8156-8fe92bf8054f\" data-module-element-id=\"9d21d664601691fba1186aee07d94d7b\" data-post-id=\"44cb71eb-b87a-47aa-8156-8fe92bf8054f\" data-post-url=\"http://www.foxnews.com/opinion/2018/04/01/what-is-easter-and-why-do-christians-celebrate-this-holiday.html\" data-ready=\"true\" data-spot-id=\"sp_ANQXRpqH\" data-spotim-module=\"spotim-launcher\"><div class=\"sppre_frame-container\" id=\"e63eafe33019853e8521458af65f47ce\"><iframe data-conversation-id=\"sp_ANQXRpqH_44cb71eb-b87a-47aa-8156-8fe92bf8054f\" data-frame-unique-id=\"f6606b2efbdac88a26ce9a3c6e01e440\" id=\"e63eafe33019853e8521458af65f47ce-iframe\" scrolling=\"no\" src=\"https://spoxy-shard4.spot.im/v2/spot/sp_ANQXRpqH/post/44cb71eb-b87a-47aa-8156-8fe92bf8054f/?elementId=9d21d664601691fba1186aee07d94d7b&amp;spot_im_platform=desktop&amp;host_url=http%3A%2F%2Fwww.foxnews.com%2Fopinion%2F2018%2F04%2F01%2Fwhat-is-easter-and-why-do-christians-celebrate-this-holiday.html&amp;host_url_64=aHR0cDovL3d3dy5mb3huZXdzLmNvbS9vcGluaW9uLzIwMTgvMDQvMDEvd2hhdC1pcy1lYXN0ZXItYW5kLXdoeS1kby1jaHJpc3RpYW5zLWNlbGVicmF0ZS10aGlzLWhvbGlkYXkuaHRtbA%3D%3D&amp;spot_im_ph__prerender_deferred=true&amp;prerenderDeferred=true&amp;sort_by=newest&amp;spot_im_ih__livefyre_url=44cb71eb-b87a-47aa-8156-8fe92bf8054f&amp;isStarsRatingEnabled=false&amp;enableMessageShare=true&amp;enableAnonymize=true&amp;isConversationLiveBlog=false&amp;enableSeeMoreButton=true\" style=\"overflow: hidden; height: 2124px;\"></iframe></div></div><div data-host-url=\"http://www.foxnews.com/opinion/2018/04/01/what-is-easter-and-why-do-christians-celebrate-this-holiday.html\" data-post-id=\"44cb71eb-b87a-47aa-8156-8fe92bf8054f\" data-ready=\"true\" data-spot-id=\"sp_ANQXRpqH\" data-spotim-module=\"community-promo\"><!-- react-empty: 1 --></div></div>,\n",
       " <div id=\"commenting\"></div>]"
      ]
     },
     "execution_count": 9,
     "metadata": {},
     "output_type": "execute_result"
    }
   ],
   "source": [
    "mydivs"
   ]
  },
  {
   "cell_type": "code",
   "execution_count": 53,
   "metadata": {},
   "outputs": [],
   "source": [
    "comment_url = \"https://spoxy-shard4.spot.im/v2/spot/sp_ANQXRpqH/post/44cb71eb-b87a-47aa-8156-8fe92bf8054f/?elementId=ba314173ff98020a17b6995ce616f0d4&amp;spot_im_platform=desktop&amp;host_url=http%3A%2F%2Fwww.foxnews.com%2Fopinion%2F2018%2F04%2F01%2Fwhat-is-easter-and-why-do-christians-celebrate-this-holiday.html&amp;host_url_64=aHR0cDovL3d3dy5mb3huZXdzLmNvbS9vcGluaW9uLzIwMTgvMDQvMDEvd2hhdC1pcy1lYXN0ZXItYW5kLXdoeS1kby1jaHJpc3RpYW5zLWNlbGVicmF0ZS10aGlzLWhvbGlkYXkuaHRtbA%3D%3D&amp;spot_im_ph__prerender_deferred=true&amp;prerenderDeferred=true&amp;sort_by=newest&amp;spot_im_ih__livefyre_url=44cb71eb-b87a-47aa-8156-8fe92bf8054f&amp;isStarsRatingEnabled=false&amp;enableMessageShare=true&amp;enableAnonymize=true&amp;isConversationLiveBlog=false&amp;enableSeeMoreButton=true\""
   ]
  },
  {
   "cell_type": "code",
   "execution_count": 54,
   "metadata": {
    "scrolled": true
   },
   "outputs": [],
   "source": [
    "driver.get(comment_url)"
   ]
  },
  {
   "cell_type": "code",
   "execution_count": 57,
   "metadata": {},
   "outputs": [],
   "source": [
    "post_msg = driver.find_element_by_css_selector('.ql-editor.ql-blank')"
   ]
  },
  {
   "cell_type": "code",
   "execution_count": 58,
   "metadata": {},
   "outputs": [],
   "source": [
    "post_msg.send_keys(\"hhhhhhh\")"
   ]
  },
  {
   "cell_type": "code",
   "execution_count": 59,
   "metadata": {},
   "outputs": [],
   "source": [
    "btn = driver.find_element_by_class_name(\"sppre_actions\")"
   ]
  },
  {
   "cell_type": "code",
   "execution_count": 47,
   "metadata": {},
   "outputs": [],
   "source": [
    "btn.click()"
   ]
  },
  {
   "cell_type": "code",
   "execution_count": 63,
   "metadata": {},
   "outputs": [],
   "source": [
    "for i in range(0, 100):\n",
    "#     time.sleep(3)\n",
    "    message = randomword(20)\n",
    "    post_msg.send_keys(message + str(i))\n",
    "    btn.click()"
   ]
  },
  {
   "cell_type": "code",
   "execution_count": null,
   "metadata": {},
   "outputs": [],
   "source": []
  },
  {
   "cell_type": "code",
   "execution_count": null,
   "metadata": {},
   "outputs": [],
   "source": []
  },
  {
   "cell_type": "code",
   "execution_count": null,
   "metadata": {},
   "outputs": [],
   "source": []
  },
  {
   "cell_type": "code",
   "execution_count": 22,
   "metadata": {
    "collapsed": true
   },
   "outputs": [],
   "source": []
  },
  {
   "cell_type": "code",
   "execution_count": 23,
   "metadata": {
    "collapsed": true
   },
   "outputs": [],
   "source": []
  },
  {
   "cell_type": "code",
   "execution_count": null,
   "metadata": {
    "collapsed": true
   },
   "outputs": [],
   "source": []
  }
 ],
 "metadata": {
  "kernelspec": {
   "display_name": "Python 2",
   "language": "python",
   "name": "python2"
  },
  "language_info": {
   "codemirror_mode": {
    "name": "ipython",
    "version": 2
   },
   "file_extension": ".py",
   "mimetype": "text/x-python",
   "name": "python",
   "nbconvert_exporter": "python",
   "pygments_lexer": "ipython2",
   "version": "2.7.15"
  }
 },
 "nbformat": 4,
 "nbformat_minor": 2
}
